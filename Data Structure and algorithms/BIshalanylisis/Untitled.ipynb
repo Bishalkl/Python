{
 "cells": [
  {
   "cell_type": "markdown",
   "id": "f3c191df-9f2e-4b1d-90be-c12810805b55",
   "metadata": {},
   "source": [
    "Hand on"
   ]
  },
  {
   "cell_type": "code",
   "execution_count": 15,
   "id": "d9ef1579-9550-40bc-95e4-08ddc77334cf",
   "metadata": {},
   "outputs": [],
   "source": [
    "import sys\n",
    "import numpy as np"
   ]
  },
  {
   "cell_type": "markdown",
   "id": "46bbd1b6-4e38-4a7e-91a4-443fff08bcbf",
   "metadata": {},
   "source": [
    "Basic Numpy Arrays"
   ]
  },
  {
   "cell_type": "code",
   "execution_count": 18,
   "id": "d21b4e3b-5c0a-486b-b732-0557b1b84861",
   "metadata": {},
   "outputs": [],
   "source": [
    "b = np.array([1,2,3,4])"
   ]
  },
  {
   "cell_type": "code",
   "execution_count": null,
   "id": "0ce2bb27-1830-4197-8dfd-68f894c8c8c5",
   "metadata": {},
   "outputs": [],
   "source": []
  }
 ],
 "metadata": {
  "kernelspec": {
   "display_name": "Python 3 (ipykernel)",
   "language": "python",
   "name": "python3"
  },
  "language_info": {
   "codemirror_mode": {
    "name": "ipython",
    "version": 3
   },
   "file_extension": ".py",
   "mimetype": "text/x-python",
   "name": "python",
   "nbconvert_exporter": "python",
   "pygments_lexer": "ipython3",
   "version": "3.8.10"
  }
 },
 "nbformat": 4,
 "nbformat_minor": 5
}
