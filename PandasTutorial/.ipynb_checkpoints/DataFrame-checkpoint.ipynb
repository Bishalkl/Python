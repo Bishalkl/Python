{
 "cells": [
  {
   "cell_type": "code",
   "execution_count": 41,
   "id": "fed0c6c9-9ae9-4a9c-85dd-436341c4a24e",
   "metadata": {},
   "outputs": [
    {
     "name": "stdout",
     "output_type": "stream",
     "text": [
      "apple\n",
      "2 apple\n",
      "fruits    pineapple\n",
      "rank              4\n",
      "Name: 4, dtype: object\n",
      "<class 'pandas.core.frame.DataFrame'>\n"
     ]
    }
   ],
   "source": [
    "import pandas as pd\n",
    "#making a simple data set with dict \n",
    "dict = {\"fruits\": [\"apple\", \"Banana\", \"orange\", \"pineapple\"], \"rank\" : [1,2,3,4]} #this is data set\n",
    "a = pd.DataFrame(dict, index= [1,2,3,4]) #making Dataframe in a var\n",
    "#printing a dataframe\n",
    "print(a[\"fruits\"][1])\n",
    "print(a[\"rank\"][2], a[\"fruits\"][1]) #priniting different value of data\n",
    "#we can also print a row as we wish by using a locate row \n",
    "print(a.loc[4]) #using loc bulit-in-function\n",
    "print(type(a)) # to get a data fraim of what"
   ]
  }
 ],
 "metadata": {
  "kernelspec": {
   "display_name": "Python 3 (ipykernel)",
   "language": "python",
   "name": "python3"
  },
  "language_info": {
   "codemirror_mode": {
    "name": "ipython",
    "version": 3
   },
   "file_extension": ".py",
   "mimetype": "text/x-python",
   "name": "python",
   "nbconvert_exporter": "python",
   "pygments_lexer": "ipython3",
   "version": "3.8.10"
  }
 },
 "nbformat": 4,
 "nbformat_minor": 5
}
