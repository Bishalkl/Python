{
 "cells": [
  {
   "cell_type": "code",
   "execution_count": 1,
   "id": "fed0c6c9-9ae9-4a9c-85dd-436341c4a24e",
   "metadata": {},
   "outputs": [
    {
     "name": "stdout",
     "output_type": "stream",
     "text": [
      "apple\n",
      "2 apple\n",
      "fruits    pineapple\n",
      "rank              4\n",
      "Name: 4, dtype: object\n",
      "<class 'pandas.core.frame.DataFrame'>\n"
     ]
    }
   ],
   "source": [
    "import pandas as pd\n",
    "#making a simple data set with dict \n",
    "dict = {\"fruits\": [\"apple\", \"Banana\", \"orange\", \"pineapple\"], \"rank\" : [1,2,3,4]} #this is data set\n",
    "a = pd.DataFrame(dict, index= [1,2,3,4]) #making Dataframe in a var\n",
    "#printing a dataframe\n",
    "print(a[\"fruits\"][1])\n",
    "print(a[\"rank\"][2], a[\"fruits\"][1]) #priniting different value of data\n",
    "#we can also print a row as we wish by using a locate row \n",
    "print(a.loc[4]) #using loc bulit-in-function\n",
    "print(type(a)) # to get a data fraim of what"
   ]
  },
  {
   "cell_type": "code",
   "execution_count": 6,
   "id": "8a318f99-689e-4e75-a87c-5035a45c96a2",
   "metadata": {},
   "outputs": [
    {
     "name": "stdout",
     "output_type": "stream",
     "text": [
      "0    a\n",
      "1    b\n",
      "2    c\n",
      "3    d\n",
      "4    e\n",
      "5    f\n",
      "dtype: object\n",
      "g\n"
     ]
    }
   ],
   "source": [
    "#creating dataframe\n",
    "#import pandas and numpy\n",
    "import pandas as pd\n",
    "import numpy as np\n",
    "\n",
    "#creating simple array\n",
    "data = np.array(['a','b','c','d','e','f','g','h'])\n",
    "ser = pd.Series(data)\n",
    "\n",
    "#retrieve the first element\n",
    "print(ser[:6])\n",
    "\n",
    "#Accessing Element Using Label(index):\n",
    "print(ser[6])"
   ]
  },
  {
   "cell_type": "code",
   "execution_count": 21,
   "id": "4d492c32-0ac1-4e78-8573-0e07cdd93bf0",
   "metadata": {},
   "outputs": [
    {
     "name": "stdout",
     "output_type": "stream",
     "text": [
      "0    1\n",
      "1    2\n",
      "2    3\n",
      "3    4\n",
      "dtype: int64\n",
      "\n",
      "1    2\n",
      "2    3\n",
      "3    4\n",
      "4    5\n",
      "dtype: int64\n",
      "0    1.0\n",
      "1    4.0\n",
      "2    6.0\n",
      "3    8.0\n",
      "4    5.0\n",
      "dtype: float64\n",
      "0    1.0\n",
      "1    0.0\n",
      "2    0.0\n",
      "3    0.0\n",
      "4   -5.0\n",
      "dtype: float64\n",
      "1    2\n",
      "2    3\n",
      "dtype: int64\n",
      "1    2\n",
      "2    3\n",
      "dtype: int64\n",
      "1    2\n",
      "2    3\n",
      "dtype: int64\n"
     ]
    }
   ],
   "source": [
    "#add function\n",
    "import pandas as pd \n",
    "\n",
    "#creating data \n",
    "data1 = pd.Series([1,2,3,4], index=[0,1,2,3])\n",
    "data2 = pd.Series([2,3,4,5], index=[1,2,3,4])\n",
    "\n",
    "print(f\"{data1}\\n\\n{data2}\")\n",
    "\n",
    "#for add only\n",
    "result = data1.add(data2, fill_value=0)\n",
    "print(result)\n",
    "\n",
    "#for sub only\n",
    "result1 = data1.sub(data2, fill_value=0)\n",
    "print(result1)\n",
    "\n",
    "#for loc \n",
    "print(data1[1:3])\n",
    "\n",
    "#for iloc\n",
    "print(data1[1:3])\n",
    "\n",
    "#for default\n",
    "print(data1[1:3])"
   ]
  },
  {
   "cell_type": "markdown",
   "id": "37b0e9eb-c236-4deb-94c2-b026aef6d9eb",
   "metadata": {},
   "source": [
    "# import pandas as pd\n",
    "ser = pd.Series(range(10))\n",
    "print(ser)"
   ]
  },
  {
   "cell_type": "code",
   "execution_count": 26,
   "id": "3569de19-83b7-4d8b-aa84-ac38801d911c",
   "metadata": {},
   "outputs": [
    {
     "name": "stdout",
     "output_type": "stream",
     "text": [
      "first      1\n",
      "second     4\n",
      "third      7\n",
      "fourth    10\n",
      "five      13\n",
      "six       16\n",
      "seven     19\n",
      "dtype: int64\n"
     ]
    }
   ],
   "source": [
    "import pandas as pd\n",
    "var = pd.Series(range(1,20,3), index= [x for x in ['first', 'second', 'third', 'fourth', 'five','six','seven']])\n",
    "print(var)\n"
   ]
  },
  {
   "cell_type": "code",
   "execution_count": null,
   "id": "9daeeead-55b0-4ec6-9fa8-b4dd78df8585",
   "metadata": {},
   "outputs": [],
   "source": [
    "import pandas as pd\n",
    "import numpy as np\n",
    "ser = np.arange(10,15)\n",
    "serobj = pd.Series(data=ser*5, index=ser)\n",
    "print(serobj)"
   ]
  }
 ],
 "metadata": {
  "kernelspec": {
   "display_name": "Python 3 (ipykernel)",
   "language": "python",
   "name": "python3"
  },
  "language_info": {
   "codemirror_mode": {
    "name": "ipython",
    "version": 3
   },
   "file_extension": ".py",
   "mimetype": "text/x-python",
   "name": "python",
   "nbconvert_exporter": "python",
   "pygments_lexer": "ipython3",
   "version": "3.8.10"
  }
 },
 "nbformat": 4,
 "nbformat_minor": 5
}
