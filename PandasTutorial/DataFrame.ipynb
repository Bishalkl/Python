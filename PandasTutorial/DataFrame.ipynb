{
 "cells": [
  {
   "cell_type": "code",
   "execution_count": 1,
   "id": "fed0c6c9-9ae9-4a9c-85dd-436341c4a24e",
   "metadata": {},
   "outputs": [
    {
     "name": "stdout",
     "output_type": "stream",
     "text": [
      "apple\n",
      "2 apple\n",
      "fruits    pineapple\n",
      "rank              4\n",
      "Name: 4, dtype: object\n",
      "<class 'pandas.core.frame.DataFrame'>\n"
     ]
    }
   ],
   "source": [
    "import pandas as pd\n",
    "#making a simple data set with dict \n",
    "dict = {\"fruits\": [\"apple\", \"Banana\", \"orange\", \"pineapple\"], \"rank\" : [1,2,3,4]} #this is data set\n",
    "a = pd.DataFrame(dict, index= [1,2,3,4]) #making Dataframe in a var\n",
    "#printing a dataframe\n",
    "print(a[\"fruits\"][1])\n",
    "print(a[\"rank\"][2], a[\"fruits\"][1]) #priniting different value of data\n",
    "#we can also print a row as we wish by using a locate row \n",
    "print(a.loc[4]) #using loc bulit-in-function\n",
    "print(type(a)) # to get a data fraim of what"
   ]
  },
  {
   "cell_type": "code",
   "execution_count": 6,
   "id": "8a318f99-689e-4e75-a87c-5035a45c96a2",
   "metadata": {},
   "outputs": [
    {
     "name": "stdout",
     "output_type": "stream",
     "text": [
      "0    a\n",
      "1    b\n",
      "2    c\n",
      "3    d\n",
      "4    e\n",
      "5    f\n",
      "dtype: object\n",
      "g\n"
     ]
    }
   ],
   "source": [
    "#creating dataframe\n",
    "#import pandas and numpy\n",
    "import pandas as pd\n",
    "import numpy as np\n",
    "\n",
    "#creating simple array\n",
    "data = np.array(['a','b','c','d','e','f','g','h'])\n",
    "ser = pd.Series(data)\n",
    "\n",
    "#retrieve the first element\n",
    "print(ser[:6])\n",
    "\n",
    "#Accessing Element Using Label(index):\n",
    "print(ser[6])"
   ]
  },
  {
   "cell_type": "code",
   "execution_count": 21,
   "id": "4d492c32-0ac1-4e78-8573-0e07cdd93bf0",
   "metadata": {},
   "outputs": [
    {
     "name": "stdout",
     "output_type": "stream",
     "text": [
      "0    1\n",
      "1    2\n",
      "2    3\n",
      "3    4\n",
      "dtype: int64\n",
      "\n",
      "1    2\n",
      "2    3\n",
      "3    4\n",
      "4    5\n",
      "dtype: int64\n",
      "0    1.0\n",
      "1    4.0\n",
      "2    6.0\n",
      "3    8.0\n",
      "4    5.0\n",
      "dtype: float64\n",
      "0    1.0\n",
      "1    0.0\n",
      "2    0.0\n",
      "3    0.0\n",
      "4   -5.0\n",
      "dtype: float64\n",
      "1    2\n",
      "2    3\n",
      "dtype: int64\n",
      "1    2\n",
      "2    3\n",
      "dtype: int64\n",
      "1    2\n",
      "2    3\n",
      "dtype: int64\n"
     ]
    }
   ],
   "source": [
    "#add function\n",
    "import pandas as pd \n",
    "\n",
    "#creating data \n",
    "data1 = pd.Series([1,2,3,4], index=[0,1,2,3])\n",
    "data2 = pd.Series([2,3,4,5], index=[1,2,3,4])\n",
    "\n",
    "print(f\"{data1}\\n\\n{data2}\")\n",
    "\n",
    "#for add only\n",
    "result = data1.add(data2, fill_value=0)\n",
    "print(result)\n",
    "\n",
    "#for sub only\n",
    "result1 = data1.sub(data2, fill_value=0)\n",
    "print(result1)\n",
    "\n",
    "#for loc \n",
    "print(data1[1:3])\n",
    "\n",
    "#for iloc\n",
    "print(data1[1:3])\n",
    "\n",
    "#for default\n",
    "print(data1[1:3])"
   ]
  },
  {
   "cell_type": "markdown",
   "id": "37b0e9eb-c236-4deb-94c2-b026aef6d9eb",
   "metadata": {},
   "source": [
    "# import pandas as pd\n",
    "ser = pd.Series(range(10))\n",
    "print(ser)"
   ]
  },
  {
   "cell_type": "code",
   "execution_count": 3,
   "id": "9daeeead-55b0-4ec6-9fa8-b4dd78df8585",
   "metadata": {},
   "outputs": [
    {
     "name": "stdout",
     "output_type": "stream",
     "text": [
      "10    50\n",
      "11    55\n",
      "12    60\n",
      "13    65\n",
      "14    70\n",
      "dtype: int64\n"
     ]
    }
   ],
   "source": [
    "import pandas as pd\n",
    "import numpy as np\n",
    "ser = np.arange(10,15)\n",
    "serobj = pd.Series(data=ser*5, index=ser)\n",
    "print(serobj)"
   ]
  },
  {
   "cell_type": "code",
   "execution_count": 6,
   "id": "7e268d43-b8e9-499f-bdd6-e38d47b8f63a",
   "metadata": {},
   "outputs": [
    {
     "name": "stdout",
     "output_type": "stream",
     "text": [
      "Empty DataFrame\n",
      "Columns: []\n",
      "Index: []\n"
     ]
    }
   ],
   "source": [
    "#import pandas creating in empty list\n",
    "import pandas as pd\n",
    "\n",
    "#calling DataFrame constructor\n",
    "df = pd.DataFrame()\n",
    "\n",
    "print(df)"
   ]
  },
  {
   "cell_type": "code",
   "execution_count": 7,
   "id": "fef6df8c-ff34-4159-8e94-59a40eeff861",
   "metadata": {},
   "outputs": [
    {
     "name": "stdout",
     "output_type": "stream",
     "text": [
      "         0\n",
      "0   bishal\n",
      "1  koirala\n",
      "2    komal\n"
     ]
    }
   ],
   "source": [
    "#creating a dataframe using list:\n",
    "\n",
    "#importing pandas\n",
    "import pandas as pd\n",
    "\n",
    "#list of string\n",
    "lst = [\"bishal\", \"koirala\", \"komal\"]\n",
    "\n",
    "#calling DataFrame constructor on list\n",
    "df = pd.DataFrame(lst)\n",
    "\n",
    "printing the output\n",
    "print(df)"
   ]
  },
  {
   "cell_type": "code",
   "execution_count": 9,
   "id": "accfbf5e-8d52-45f8-affe-17e4d5c10837",
   "metadata": {},
   "outputs": [
    {
     "name": "stdout",
     "output_type": "stream",
     "text": [
      "      name  age\n",
      "0   Bishal   23\n",
      "1  koirala   43\n",
      "2    komal   45\n"
     ]
    }
   ],
   "source": [
    "#creating a dataframe using dict of narrys\n",
    "\n",
    "#importing pandas\n",
    "import pandas as pd\n",
    "\n",
    "#creating dict\n",
    "dict = { \"name\": [\"Bishal\", \"koirala\", \"komal\"], \"age\": [23,43,45]}\n",
    "\n",
    "#calling DataFrame constructor on dict\n",
    "de = pd.DataFrame(dict)\n",
    "\n",
    "#printing the output\n",
    "print(de)"
   ]
  },
  {
   "cell_type": "code",
   "execution_count": 13,
   "id": "9788cee1-57ff-4bf8-9619-f77ceb5bb50b",
   "metadata": {},
   "outputs": [
    {
     "name": "stdout",
     "output_type": "stream",
     "text": [
      "     name  age      number\n",
      "0  bishal   20  9811034442\n",
      "1  bishnu   20  9811032323\n",
      "2  manish   20  9800012121\n"
     ]
    }
   ],
   "source": [
    "#one creating dataFrame from list of list\n",
    "\n",
    "#importing pandas\n",
    "import pandas as pd\n",
    "\n",
    "#creating a data list\n",
    "a = [[\"bishal\", 20, 9811034442], [\"bishnu\", 20, 9811032323],[\"manish\", 20, 9800012121]]\n",
    "\n",
    "#calling DataFrame constructor on a \n",
    "b = pd.DataFrame(a, columns=['name','age','number'])   #using columns= for naming the columns of list \n",
    "\n",
    "#printing the output\n",
    "print(b)\n",
    "\n"
   ]
  },
  {
   "cell_type": "code",
   "execution_count": 17,
   "id": "0c2a4d91-a9d1-4dba-b7e4-d570738a6f7c",
   "metadata": {},
   "outputs": [
    {
     "name": "stdout",
     "output_type": "stream",
     "text": [
      "    a   b   c\n",
      "0  12  13  14\n",
      "1  12  13  14\n"
     ]
    }
   ],
   "source": [
    "#creating pandas DataFrame from list of Dictionaries\n",
    "\n",
    "#importing pandas\n",
    "import pandas as pd\n",
    "\n",
    "#creating a list\n",
    "list = [{'a': 12, 'b': 13, 'c':14},{'a': 12, 'b' : 13, 'c' : 14}]\n",
    "\n",
    "#calling DataFrame constructor on list\n",
    "d = pd.DataFrame(list)\n",
    "print(d)"
   ]
  },
  {
   "cell_type": "code",
   "execution_count": 26,
   "id": "96191834-6783-4da5-86a9-cf50a756498a",
   "metadata": {},
   "outputs": [
    {
     "name": "stdout",
     "output_type": "stream",
     "text": [
      "        0   1\n",
      "0  bishal  20\n",
      "1  bishnu  20\n",
      "2  manish  21\n"
     ]
    }
   ],
   "source": [
    "#creating DataFrame using zip() function\n",
    "\n",
    "#importing pandas\n",
    "import pandas as pd\n",
    "\n",
    "#creating list\n",
    "\n",
    "#list 1\n",
    "name = [\"bishal\", \"bishnu\", \"manish\"]\n",
    "\n",
    "#list 2\n",
    "age = [20,20,21]\n",
    "\n",
    "#get the list of tuples from two lists.\n",
    "#and merge them by using zip()\n",
    "\n",
    "#calling DataFrame constructor by merging name and age\n",
    "list_of_merge = pd.DataFrame(zip(name,age))\n",
    "\n",
    "#printing output\n",
    "print(list_of_merge)\n"
   ]
  },
  {
   "cell_type": "code",
   "execution_count": 27,
   "id": "27caec33-63cb-4eba-916a-36a44b43abd1",
   "metadata": {},
   "outputs": [
    {
     "name": "stdout",
     "output_type": "stream",
     "text": [
      "         name  age\n",
      "rank1  bishal   20\n",
      "rank2  manish   20\n",
      "rank3   komal   21\n"
     ]
    }
   ],
   "source": [
    "#creating a DataFrame by proving index label explicitly\n",
    "\n",
    "#importing pandas\n",
    "import pandas as pd\n",
    "\n",
    "#creating dict\n",
    "di = {'name': ['bishal','manish','komal'],\n",
    "      'age': [20,20,21]}\n",
    "\n",
    "#calling DataFrame constructor to di and add index on it\n",
    "g = pd.DataFrame(di, index=['rank1','rank2','rank3'])\n",
    "print(g)"
   ]
  }
 ],
 "metadata": {
  "kernelspec": {
   "display_name": "Python 3 (ipykernel)",
   "language": "python",
   "name": "python3"
  },
  "language_info": {
   "codemirror_mode": {
    "name": "ipython",
    "version": 3
   },
   "file_extension": ".py",
   "mimetype": "text/x-python",
   "name": "python",
   "nbconvert_exporter": "python",
   "pygments_lexer": "ipython3",
   "version": "3.8.10"
  }
 },
 "nbformat": 4,
 "nbformat_minor": 5
}
