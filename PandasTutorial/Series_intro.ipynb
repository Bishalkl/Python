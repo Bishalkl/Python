{
 "cells": [
  {
   "cell_type": "code",
   "execution_count": 12,
   "id": "f3f6055c-1415-47eb-8269-39f6aaafffbe",
   "metadata": {},
   "outputs": [
    {
     "name": "stdout",
     "output_type": "stream",
     "text": [
      "first     1\n",
      "second    2\n",
      "third     3\n",
      "dtype: int64\n",
      "<class 'pandas.core.series.Series'>\n",
      "2\n",
      "bishal\n",
      "first_name          bishal\n",
      "second_name           anoj\n",
      "field            animation\n",
      "first_number            12\n",
      "second_number           23\n",
      "Name: Mixed_data, dtype: object\n"
     ]
    }
   ],
   "source": [
    "import pandas as pd # importing the pandas as \n",
    "a = [1,2,3] #list of data in int form\n",
    "b = pd.Series(a, index=[\"first\", \"second\", \"third\"]) # we can also give index name \n",
    "print(b) #this is to get a output or execute and get a data in series form \"one dimensional arrays\"\n",
    "print(type(b)) #this is to get a type of data structure\n",
    "print(b[\"second\"]) #this is to get a specific data by trageting a index\n",
    "c = [\"bishal\",\"anoj\",\"animation\",12,23]\n",
    "d =pd.Series(c, index=[\"first_name\", \"second_name\", \"field\",\"first_number\",\"second_number\"], name=\"Mixed_data\") #naming data set of series\n",
    "print(d[\"first_name\"])\n",
    "print(d)\n"
   ]
  },
  {
   "cell_type": "code",
   "execution_count": 1,
   "id": "718195cd-990d-49a8-9006-64036a300061",
   "metadata": {},
   "outputs": [
    {
     "name": "stdout",
     "output_type": "stream",
     "text": [
      "name             [Bishal, Anoj, khusi]\n",
      "country    [Japan, America, Austraila]\n",
      "dtype: object\n",
      "name             [Bishal, Anoj, khusi]\n",
      "country    [Japan, America, Austraila]\n",
      "dtype: object\n"
     ]
    }
   ],
   "source": [
    "import pandas as pd \n",
    "dict = { \n",
    "            \"name\" : [\"Bishal\", \"Anoj\", \"khusi\"],\n",
    "            \"country\" : [\"Japan\", \"America\", \"Austraila\"]\n",
    "        }\n",
    "\n",
    "e = pd.Series(dict) # #using double index\n",
    "print(e)\n",
    "print(e)"
   ]
  }
 ],
 "metadata": {
  "kernelspec": {
   "display_name": "Python 3 (ipykernel)",
   "language": "python",
   "name": "python3"
  },
  "language_info": {
   "codemirror_mode": {
    "name": "ipython",
    "version": 3
   },
   "file_extension": ".py",
   "mimetype": "text/x-python",
   "name": "python",
   "nbconvert_exporter": "python",
   "pygments_lexer": "ipython3",
   "version": "3.8.10"
  }
 },
 "nbformat": 4,
 "nbformat_minor": 5
}
